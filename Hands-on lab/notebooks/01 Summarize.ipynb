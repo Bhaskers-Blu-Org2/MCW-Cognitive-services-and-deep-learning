{
  "cells": [
    {
      "metadata": {},
      "cell_type": "markdown",
      "source": "# Summarizing Text"
    },
    {
      "metadata": {},
      "cell_type": "markdown",
      "source": "In this notebook, you will get to experiment with performing extraction based summarization of text. This technique of summarization attempts to identify key sentences in a provided text and returns a summary that is the result of returning just those key sentences.\n\nThe process we will follow to summarize text is a subset of the text analytics pipeline that includes these steps:\n\n- Normalize the text: in this case, simply to clean the text of line break characters. This followed by some simple sentence tokenization, which breaks the paragraph into sentences and removes any extra trailing spaces. Finally the cleaned up text is returned as string.\n- Apply the analytic method: in this case, we use the summarize method provided by the gensim library to generate the summarized result."
    },
    {
      "metadata": {},
      "cell_type": "markdown",
      "source": "**Please confirm that you have run notebook `00 Init` before proceeding**"
    },
    {
      "metadata": {},
      "cell_type": "markdown",
      "source": "## Task 1 - Import modules\n\nFirst, we need to import the modules used by our logic."
    },
    {
      "metadata": {
        "trusted": true
      },
      "cell_type": "code",
      "source": "import nltk\nimport re\nimport unicodedata\nimport numpy as np\nfrom gensim.summarization import summarize\nnltk.download('punkt')",
      "execution_count": null,
      "outputs": []
    },
    {
      "metadata": {},
      "cell_type": "markdown",
      "source": "## Task 2 - Normalize text\n\nIn the following, we define a method that will remove line break characters, tokenize the paragraph of text into an array of string sentences and then strip any extra spaces surrounding a sentence. This is an example of a simple, but typical, text normalization step."
    },
    {
      "metadata": {
        "trusted": true
      },
      "cell_type": "code",
      "source": "def clean_and_parse_document(document):\n    document = re.sub('\\n', ' ', document)\n    document = document.strip()\n    sentences = nltk.sent_tokenize(document)\n    sentences = [sentence.strip() for sentence in sentences]\n    return sentences",
      "execution_count": null,
      "outputs": []
    },
    {
      "metadata": {},
      "cell_type": "markdown",
      "source": "## Task 3 - Summarize text\n\nIn the following, we define a method that uses the summarize method from the gensim module. We take the pre-processed output from our clean_and_parse_document routine and convert the array of string sentences to a single text item by concatenating the sentences. When performing text analytics, some analytic methods might require tokenized input and others may require string input, so this is a common process. In this, the summarize method requires a text string as input."
    },
    {
      "metadata": {
        "trusted": true
      },
      "cell_type": "code",
      "source": "def summarize_text(text, summary_ratio=None, word_count=30):\n    sentences = clean_and_parse_document(text)\n    cleaned_text = ' '.join(sentences)\n    summary = summarize(cleaned_text, split=True, ratio=summary_ratio, word_count=word_count)\n    return summary ",
      "execution_count": null,
      "outputs": []
    },
    {
      "metadata": {},
      "cell_type": "markdown",
      "source": "## Task 4 - Try it out\n\nAuthor an example string that represents a rather long claim description that Contoso Ltd. might encounter. An example is provided for you, but feel free to provide your own."
    },
    {
      "metadata": {
        "trusted": true
      },
      "cell_type": "code",
      "source": "example_document = \"\"\"\nI was driving down El Camino and stopped at a red light.\nIt was about 3pm in the afternoon.  \nThe sun was bright and shining just behind the stoplight.\nThis made it hard to see the lights.\nThere was a car on my left in the left turn lane.\nA few moments later another car, a black sedan pulled up behind me. \nWhen the left turn light changed green, the black sedan hit me thinking \nthat the light had changed for us, but I had not moved because the light \nwas still red.\nAfter hitting my car, the black sedan backed up and then sped past me.\nI did manage to catch its license plate. \nThe license plate of the black sedan was ABC123. \n\"\"\"",
      "execution_count": null,
      "outputs": []
    },
    {
      "metadata": {},
      "cell_type": "markdown",
      "source": "Now, invoke your summarize_text function against the example document and observe the result."
    },
    {
      "metadata": {
        "trusted": true
      },
      "cell_type": "code",
      "source": "summarize_text(example_document)",
      "execution_count": null,
      "outputs": []
    },
    {
      "metadata": {},
      "cell_type": "markdown",
      "source": "Observe that the summary is returned as an array of string. If multiple sentences were returned, there would be multiple array entries."
    },
    {
      "metadata": {},
      "cell_type": "markdown",
      "source": "## Task 5 - Experiment\n\n- The summarize text function above defaults to providing a summary that is about 30 words long. What happens if you attempt to summarize the text to 60 words?\n- What happens when you submit a text to summarize that is shorter than the summary target length?"
    },
    {
      "metadata": {
        "trusted": true
      },
      "cell_type": "code",
      "source": "",
      "execution_count": null,
      "outputs": []
    }
  ],
  "metadata": {
    "kernelspec": {
      "name": "python36",
      "display_name": "Python 3.6",
      "language": "python"
    },
    "language_info": {
      "mimetype": "text/x-python",
      "nbconvert_exporter": "python",
      "name": "python",
      "pygments_lexer": "ipython3",
      "version": "3.6.6",
      "file_extension": ".py",
      "codemirror_mode": {
        "version": 3,
        "name": "ipython"
      }
    }
  },
  "nbformat": 4,
  "nbformat_minor": 2
}