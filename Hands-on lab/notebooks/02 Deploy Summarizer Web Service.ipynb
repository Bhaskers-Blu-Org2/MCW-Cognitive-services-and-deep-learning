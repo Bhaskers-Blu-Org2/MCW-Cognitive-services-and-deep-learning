{
  "cells": [
    {
      "metadata": {},
      "cell_type": "markdown",
      "source": "# Azure Machine Learning Setup\nTo begin, you will need to provide the following information about your Azure Subscription.\n\n**If you are using your own Azure subscription, please provide names for subscription_id, resource_group, workspace_name and workspace_region to use.** Note that the workspace needs to be of type [Machine Learning Workspace](https://docs.microsoft.com/en-us/azure/machine-learning/service/setup-create-workspace).\n\n**If an enviorment is provided to you be sure to replace XXXXX in the values below with your unique identifier.**\n\nIn the following cell, be sure to set the values for `subscription_id`, `resource_group`, `workspace_name` and `workspace_region` as directed by the comments (*these values can be acquired from the Azure Portal*).\n\nTo get these values, do the following:\n1. Navigate to the Azure Portal and login with the credentials provided.\n2. From the left hand menu, under Favorites, select `Resource Groups`.\n3. In the list, select the resource group with the name similar to `XXXXX`.\n4. From the Overview tab, capture the desired values.\n\nExecute the following cell by selecting the `>|Run` button in the command bar above."
    },
    {
      "metadata": {
        "trusted": true
      },
      "cell_type": "code",
      "source": "#Provide the Subscription ID of your existing Azure subscription\nsubscription_id = \"\" #\"<your-azure-subscription-id>\"\n\n#Provide a name for the Resource Group that will contain Azure ML related services \nresource_group = \"mcwailab\" #\"<your-subscription-group-name>\"\n\n# Provide the name and region for the Azure Machine Learning Workspace that will be created\nworkspace_name = \"csdl-ws\"\nworkspace_region = \"eastus\" # eastus2, eastus, westcentralus, southeastasia, australiaeast, westeurope",
      "execution_count": null,
      "outputs": []
    },
    {
      "metadata": {},
      "cell_type": "markdown",
      "source": "## Create and connect to an Azure Machine Learning Workspace\n\nThe Azure Machine Learning Python SDK is required for leveraging the experimentation, model management and model deployment capabilities of Azure Machine Learning services. Run the following cell to create a new Azure Machine Learning **Workspace** and save the configuration to disk. The configuration file named `config.json` is saved in a folder named `.azureml`. \n\n**Important Note**: You will be prompted to login in the text that is output below the cell. Be sure to navigate to the URL displayed and enter the code that is provided. Once you have entered the code, return to this notebook and wait for the output to read `Workspace configuration succeeded`."
    },
    {
      "metadata": {
        "trusted": true
      },
      "cell_type": "code",
      "source": "import azureml.core\nprint('azureml.core.VERSION: ', azureml.core.VERSION)\n\n# import the Workspace class and check the azureml SDK version\nfrom azureml.core import Workspace\n\nws = Workspace.create(\n    name = workspace_name,\n    subscription_id = subscription_id,\n    resource_group = resource_group, \n    location = workspace_region, \n    exist_ok = True)\n\nws.write_config()\nprint('Workspace configuration succeeded')",
      "execution_count": null,
      "outputs": []
    },
    {
      "metadata": {},
      "cell_type": "markdown",
      "source": "Take a look at the contents of the generated configuration file by running the following cell:"
    },
    {
      "metadata": {
        "trusted": true
      },
      "cell_type": "code",
      "source": "!cat .azureml/config.json",
      "execution_count": null,
      "outputs": []
    },
    {
      "metadata": {},
      "cell_type": "markdown",
      "source": "# Deploy model to Azure Container Instance (ACI)\n\nIn this section, you will deploy a web service that uses Gensim as shown in `01 Summarize` to summarize text. The web service will be hosted in Azure Container Service."
    },
    {
      "metadata": {},
      "cell_type": "markdown",
      "source": "## Create the scoring web service\n\nWhen deploying models for scoring with Azure Machine Learning services, you need to define the code for a simple web service that will load your model and use it for scoring. By convention this service has two methods init which loads the model and run which scores data using the loaded model.\n\nThis scoring service code will later be deployed inside of a specially prepared Docker container."
    },
    {
      "metadata": {
        "trusted": true
      },
      "cell_type": "code",
      "source": "%%writefile summarizer_service.py\n\nimport re\nimport nltk\nimport unicodedata\nfrom gensim.summarization import summarize, keywords\n\ndef clean_and_parse_document(document):\n    if isinstance(document, str):\n        document = document\n    elif isinstance(document, unicode):\n        return unicodedata.normalize('NFKD', document).encode('ascii', 'ignore')\n    else:\n        raise ValueError(\"Document is not string or unicode.\")\n    document = document.strip()\n    sentences = nltk.sent_tokenize(document)\n    sentences = [sentence.strip() for sentence in sentences]\n    return sentences\n\ndef summarize_text(text, summary_ratio=None, word_count=30):\n    sentences = clean_and_parse_document(text)\n    cleaned_text = ' '.join(sentences)\n    summary = summarize(cleaned_text, split=True, ratio=summary_ratio, word_count=word_count)\n    return summary \n\ndef init():  \n    nltk.download('all')\n    return\n\ndef run(input_str):\n    try:\n        return summarize_text(input_str)\n    except Exception as e:\n        return (str(e))",
      "execution_count": null,
      "outputs": []
    },
    {
      "metadata": {},
      "cell_type": "markdown",
      "source": "## Create a Conda dependencies environment file\n\nYour web service can have dependencies installed by using a Conda environment file. Items listed in this file will be conda or pip installed within the Docker container that is created and thus be available to your scoring web service logic."
    },
    {
      "metadata": {
        "trusted": true
      },
      "cell_type": "code",
      "source": "from azureml.core.conda_dependencies import CondaDependencies \n\nmyacienv = CondaDependencies.create(pip_packages=['gensim','nltk'])\n\nwith open(\"mydeployenv.yml\",\"w\") as f:\n    f.write(myacienv.serialize_to_string())",
      "execution_count": null,
      "outputs": []
    },
    {
      "metadata": {},
      "cell_type": "markdown",
      "source": "## Deployment\n\nIn the following cells you will use the Azure Machine Learning SDK to package the model and scoring script in a container, and deploy that container to an Azure Container Instance.\n\nRun the following cells."
    },
    {
      "metadata": {
        "trusted": true
      },
      "cell_type": "code",
      "source": "from azureml.core.webservice import AciWebservice, Webservice\n\naci_config = AciWebservice.deploy_configuration(\n    cpu_cores = 1, \n    memory_gb = 1, \n    tags = {'name':'Summarization'}, \n    description = 'Summarizes text.')",
      "execution_count": null,
      "outputs": []
    },
    {
      "metadata": {},
      "cell_type": "markdown",
      "source": "Next, build up a container image configuration that names the scoring service script, the runtime, and provides the conda file."
    },
    {
      "metadata": {
        "trusted": true
      },
      "cell_type": "code",
      "source": "service_name = \"summarizer\"\nruntime = \"python\"\ndriver_file = \"summarizer_service.py\"\nconda_file = \"mydeployenv.yml\"\n\nfrom azureml.core.image import ContainerImage\n\nimage_config = ContainerImage.image_configuration(execution_script = driver_file,\n                                                  runtime = runtime,\n                                                  conda_file = conda_file)",
      "execution_count": null,
      "outputs": []
    },
    {
      "metadata": {},
      "cell_type": "markdown",
      "source": "Now you are ready to begin your deployment to the Azure Container Instance.\n\nRun the following cell. This may take between 5-15 minutes to complete.\n\nYou will see output similar to the following when your web service is ready: `SucceededACI service creation operation finished, operation \"Succeeded\"`"
    },
    {
      "metadata": {
        "trusted": true
      },
      "cell_type": "code",
      "source": "webservice = Webservice.deploy(\n  workspace=ws, \n  name=service_name, \n  model_paths=[],\n  deployment_config=aci_config,\n  image_config=image_config, \n  )\n\nwebservice.wait_for_deployment(show_output=True)",
      "execution_count": null,
      "outputs": []
    },
    {
      "metadata": {},
      "cell_type": "markdown",
      "source": "## Test the deployed service\n\nNow you are ready to test scoring using the deployed web service. The following cell invokes the web service.\n\nRun the following cells to test scoring using a single input row against the deployed web service."
    },
    {
      "metadata": {
        "trusted": true
      },
      "cell_type": "code",
      "source": "example_document = \"\"\"\nI was driving down El Camino and stopped at a red light.\nIt was about 3pm in the afternoon.  \nThe sun was bright and shining just behind the stoplight.\nThis made it hard to see the lights.\nThere was a car on my left in the left turn lane.\nA few moments later another car, a black sedan pulled up behind me. \nWhen the left turn light changed green, the black sedan hit me thinking \nthat the light had changed for us, but I had not moved because the light \nwas still red.\nAfter hitting my car, the black sedan backed up and then sped past me.\nI did manage to catch its license plate. \nThe license plate of the black sedan was ABC123. \n\"\"\"",
      "execution_count": null,
      "outputs": []
    },
    {
      "metadata": {
        "trusted": true
      },
      "cell_type": "code",
      "source": "result = webservice.run(input_data = example_document)\nprint(result)",
      "execution_count": null,
      "outputs": []
    },
    {
      "metadata": {},
      "cell_type": "markdown",
      "source": "## Capture the scoring URI\n\nIn order to call the service from a REST client, you need to acquire the scoring URI. Run the following cell to retrieve the scoring URI and take note of this value, you will need it in the last notebook."
    },
    {
      "metadata": {
        "trusted": true
      },
      "cell_type": "code",
      "source": "webservice.scoring_uri",
      "execution_count": null,
      "outputs": []
    },
    {
      "metadata": {},
      "cell_type": "markdown",
      "source": "The default settings used in deploying this service result in a service that does not require authentication, so the scoring URI is the only value you need to call this service."
    },
    {
      "metadata": {
        "trusted": true
      },
      "cell_type": "code",
      "source": "",
      "execution_count": null,
      "outputs": []
    }
  ],
  "metadata": {
    "kernelspec": {
      "name": "python36",
      "display_name": "Python 3.6",
      "language": "python"
    },
    "language_info": {
      "mimetype": "text/x-python",
      "nbconvert_exporter": "python",
      "name": "python",
      "pygments_lexer": "ipython3",
      "version": "3.6.6",
      "file_extension": ".py",
      "codemirror_mode": {
        "version": 3,
        "name": "ipython"
      }
    }
  },
  "nbformat": 4,
  "nbformat_minor": 2
}